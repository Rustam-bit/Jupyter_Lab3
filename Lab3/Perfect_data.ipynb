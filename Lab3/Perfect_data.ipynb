{
 "cells": [
  {
   "cell_type": "markdown",
   "id": "dc824592-2b0f-426c-94da-ba32f2bd68ce",
   "metadata": {},
   "source": [
    "**Разработка программы для анализа временных рядов и построения линейной модели**"
   ]
  },
  {
   "cell_type": "markdown",
   "id": "e22ea5b8-0971-4c0c-af99-451beae4188e",
   "metadata": {},
   "source": [
    "Процесс создания линейной многофакторной модели (ЛМФМ) для анализа данных временных рядов и факторов с использованием библиотеки pandas для работы с данными и statsmodels для статистического анализа и построения модели."
   ]
  },
  {
   "cell_type": "raw",
   "id": "24ff10c7-e509-4651-8167-24790744d958",
   "metadata": {},
   "source": [
    "1. Загрузка данных и импорт необходимых библиотек"
   ]
  },
  {
   "cell_type": "code",
   "execution_count": 2,
   "id": "e88b4e5b-fb2b-4f4d-be16-9683f05411a3",
   "metadata": {},
   "outputs": [
    {
     "name": "stdout",
     "output_type": "stream",
     "text": [
      "                            OLS Regression Results                            \n",
      "==============================================================================\n",
      "Dep. Variable:                      y   R-squared:                       1.000\n",
      "Model:                            OLS   Adj. R-squared:                  1.000\n",
      "Method:                 Least Squares   F-statistic:                 6.697e+29\n",
      "Date:                Mon, 11 Nov 2024   Prob (F-statistic):          5.57e-117\n",
      "Time:                        18:11:20   Log-Likelihood:                 285.22\n",
      "No. Observations:                  10   AIC:                            -566.4\n",
      "Df Residuals:                       8   BIC:                            -565.8\n",
      "Df Model:                           1                                         \n",
      "Covariance Type:            nonrobust                                         \n",
      "==============================================================================\n",
      "                 coef    std err          t      P>|t|      [0.025      0.975]\n",
      "------------------------------------------------------------------------------\n",
      "const         -0.0414   2.73e-16  -1.52e+14      0.000      -0.041      -0.041\n",
      "X1             2.8307   8.17e-15   3.46e+14      0.000       2.831       2.831\n",
      "X2             0.1719   4.11e-15   4.18e+13      0.000       0.172       0.172\n",
      "X3             1.1728   2.76e-15   4.24e+14      0.000       1.173       1.173\n",
      "X4             0.8113   2.73e-15   2.98e+14      0.000       0.811       0.811\n",
      "X5             1.4154   4.09e-15   3.46e+14      0.000       1.415       1.415\n",
      "==============================================================================\n",
      "Omnibus:                        2.321   Durbin-Watson:                   0.107\n",
      "Prob(Omnibus):                  0.313   Jarque-Bera (JB):                1.541\n",
      "Skew:                           0.844   Prob(JB):                        0.463\n",
      "Kurtosis:                       2.078   Cond. No.                     7.80e+18\n",
      "==============================================================================\n",
      "\n",
      "Notes:\n",
      "[1] Standard Errors assume that the covariance matrix of the errors is correctly specified.\n",
      "[2] The smallest eigenvalue is 1.76e-33. This might indicate that there are\n",
      "strong multicollinearity problems or that the design matrix is singular.\n"
     ]
    },
    {
     "name": "stderr",
     "output_type": "stream",
     "text": [
      "C:\\Users\\mirza\\AppData\\Local\\Programs\\Python\\Python312\\Lib\\site-packages\\scipy\\stats\\_axis_nan_policy.py:418: UserWarning: `kurtosistest` p-value may be inaccurate with fewer than 20 observations; only n=10 observations were given.\n",
      "  return hypotest_fun_in(*args, **kwds)\n"
     ]
    }
   ],
   "source": [
    "import pandas as pd\n",
    "import statsmodels.api as sm\n",
    "\n",
    "# Временные ряды\n",
    "data = pd.DataFrame({\n",
    "    'Time': [1, 2, 3, 4, 5, 6, 7, 8, 9, 10],\n",
    "    'y': [200.0, 210.0, 220.0, 230.0, 240.0, 250.0, 260.0, 270.0, 280.0, 290.0],\n",
    "    'X1': [30.0, 32.0, 34.0, 36.0, 38.0, 40.0, 42.0, 44.0, 46.0, 48.0],\n",
    "    'X2': [45.0, 46.0, 47.0, 48.0, 49.0, 50.0, 51.0, 52.0, 53.0, 54.0],\n",
    "    'X3': [70.0, 72.0, 74.0, 76.0, 78.0, 80.0, 82.0, 84.0, 86.0, 88.0],\n",
    "    'X4': [5.0, 5.5, 6.0, 6.5, 7.0, 7.5, 8.0, 8.5, 9.0, 9.5],\n",
    "    'X5': [15.0, 16.0, 17.0, 18.0, 19.0, 20.0, 21.0, 22.0, 23.0, 24.0]\n",
    "})\n",
    "# Создаем матрицу факторов и добавляем константу\n",
    "X = data[['X1', 'X2', 'X3', 'X4', 'X5']]\n",
    "X = sm.add_constant(X)\n",
    "\n",
    "# Модель линейной регрессии\n",
    "y = data['y']\n",
    "model = sm.OLS(y, X).fit()\n",
    "\n",
    "# Вывод результатов\n",
    "print(model.summary())\n"
   ]
  },
  {
   "cell_type": "markdown",
   "id": "87ac9b85-2aba-4c01-894a-e34cff6eae17",
   "metadata": {},
   "source": [
    "2. **Построение линейной многофакторной модели**"
   ]
  },
  {
   "cell_type": "code",
   "execution_count": 3,
   "id": "ccab464e-9d92-4db8-a8d6-78761e712e6a",
   "metadata": {},
   "outputs": [
    {
     "name": "stdout",
     "output_type": "stream",
     "text": [
      "Результаты оценки параметров модели:\n"
     ]
    },
    {
     "name": "stderr",
     "output_type": "stream",
     "text": [
      "C:\\Users\\mirza\\AppData\\Local\\Programs\\Python\\Python312\\Lib\\site-packages\\scipy\\stats\\_axis_nan_policy.py:418: UserWarning: `kurtosistest` p-value may be inaccurate with fewer than 20 observations; only n=10 observations were given.\n",
      "  return hypotest_fun_in(*args, **kwds)\n"
     ]
    },
    {
     "data": {
      "text/html": [
       "<table class=\"simpletable\">\n",
       "<caption>OLS Regression Results</caption>\n",
       "<tr>\n",
       "  <th>Dep. Variable:</th>            <td>y</td>        <th>  R-squared:         </th> <td>   1.000</td> \n",
       "</tr>\n",
       "<tr>\n",
       "  <th>Model:</th>                   <td>OLS</td>       <th>  Adj. R-squared:    </th> <td>   1.000</td> \n",
       "</tr>\n",
       "<tr>\n",
       "  <th>Method:</th>             <td>Least Squares</td>  <th>  F-statistic:       </th> <td>6.697e+29</td>\n",
       "</tr>\n",
       "<tr>\n",
       "  <th>Date:</th>             <td>Mon, 11 Nov 2024</td> <th>  Prob (F-statistic):</th> <td>5.57e-117</td>\n",
       "</tr>\n",
       "<tr>\n",
       "  <th>Time:</th>                 <td>18:11:26</td>     <th>  Log-Likelihood:    </th> <td>  285.22</td> \n",
       "</tr>\n",
       "<tr>\n",
       "  <th>No. Observations:</th>      <td>    10</td>      <th>  AIC:               </th> <td>  -566.4</td> \n",
       "</tr>\n",
       "<tr>\n",
       "  <th>Df Residuals:</th>          <td>     8</td>      <th>  BIC:               </th> <td>  -565.8</td> \n",
       "</tr>\n",
       "<tr>\n",
       "  <th>Df Model:</th>              <td>     1</td>      <th>                     </th>     <td> </td>    \n",
       "</tr>\n",
       "<tr>\n",
       "  <th>Covariance Type:</th>      <td>nonrobust</td>    <th>                     </th>     <td> </td>    \n",
       "</tr>\n",
       "</table>\n",
       "<table class=\"simpletable\">\n",
       "<tr>\n",
       "    <td></td>       <th>coef</th>     <th>std err</th>      <th>t</th>      <th>P>|t|</th>  <th>[0.025</th>    <th>0.975]</th>  \n",
       "</tr>\n",
       "<tr>\n",
       "  <th>const</th> <td>   -0.0414</td> <td> 2.73e-16</td> <td>-1.52e+14</td> <td> 0.000</td> <td>   -0.041</td> <td>   -0.041</td>\n",
       "</tr>\n",
       "<tr>\n",
       "  <th>X1</th>    <td>    2.8307</td> <td> 8.17e-15</td> <td> 3.46e+14</td> <td> 0.000</td> <td>    2.831</td> <td>    2.831</td>\n",
       "</tr>\n",
       "<tr>\n",
       "  <th>X2</th>    <td>    0.1719</td> <td> 4.11e-15</td> <td> 4.18e+13</td> <td> 0.000</td> <td>    0.172</td> <td>    0.172</td>\n",
       "</tr>\n",
       "<tr>\n",
       "  <th>X3</th>    <td>    1.1728</td> <td> 2.76e-15</td> <td> 4.24e+14</td> <td> 0.000</td> <td>    1.173</td> <td>    1.173</td>\n",
       "</tr>\n",
       "<tr>\n",
       "  <th>X4</th>    <td>    0.8113</td> <td> 2.73e-15</td> <td> 2.98e+14</td> <td> 0.000</td> <td>    0.811</td> <td>    0.811</td>\n",
       "</tr>\n",
       "<tr>\n",
       "  <th>X5</th>    <td>    1.4154</td> <td> 4.09e-15</td> <td> 3.46e+14</td> <td> 0.000</td> <td>    1.415</td> <td>    1.415</td>\n",
       "</tr>\n",
       "</table>\n",
       "<table class=\"simpletable\">\n",
       "<tr>\n",
       "  <th>Omnibus:</th>       <td> 2.321</td> <th>  Durbin-Watson:     </th> <td>   0.107</td>\n",
       "</tr>\n",
       "<tr>\n",
       "  <th>Prob(Omnibus):</th> <td> 0.313</td> <th>  Jarque-Bera (JB):  </th> <td>   1.541</td>\n",
       "</tr>\n",
       "<tr>\n",
       "  <th>Skew:</th>          <td> 0.844</td> <th>  Prob(JB):          </th> <td>   0.463</td>\n",
       "</tr>\n",
       "<tr>\n",
       "  <th>Kurtosis:</th>      <td> 2.078</td> <th>  Cond. No.          </th> <td>7.80e+18</td>\n",
       "</tr>\n",
       "</table><br/><br/>Notes:<br/>[1] Standard Errors assume that the covariance matrix of the errors is correctly specified.<br/>[2] The smallest eigenvalue is 1.76e-33. This might indicate that there are<br/>strong multicollinearity problems or that the design matrix is singular."
      ],
      "text/latex": [
       "\\begin{center}\n",
       "\\begin{tabular}{lclc}\n",
       "\\toprule\n",
       "\\textbf{Dep. Variable:}    &        y         & \\textbf{  R-squared:         } &     1.000   \\\\\n",
       "\\textbf{Model:}            &       OLS        & \\textbf{  Adj. R-squared:    } &     1.000   \\\\\n",
       "\\textbf{Method:}           &  Least Squares   & \\textbf{  F-statistic:       } & 6.697e+29   \\\\\n",
       "\\textbf{Date:}             & Mon, 11 Nov 2024 & \\textbf{  Prob (F-statistic):} & 5.57e-117   \\\\\n",
       "\\textbf{Time:}             &     18:11:26     & \\textbf{  Log-Likelihood:    } &    285.22   \\\\\n",
       "\\textbf{No. Observations:} &          10      & \\textbf{  AIC:               } &    -566.4   \\\\\n",
       "\\textbf{Df Residuals:}     &           8      & \\textbf{  BIC:               } &    -565.8   \\\\\n",
       "\\textbf{Df Model:}         &           1      & \\textbf{                     } &             \\\\\n",
       "\\textbf{Covariance Type:}  &    nonrobust     & \\textbf{                     } &             \\\\\n",
       "\\bottomrule\n",
       "\\end{tabular}\n",
       "\\begin{tabular}{lcccccc}\n",
       "               & \\textbf{coef} & \\textbf{std err} & \\textbf{t} & \\textbf{P$> |$t$|$} & \\textbf{[0.025} & \\textbf{0.975]}  \\\\\n",
       "\\midrule\n",
       "\\textbf{const} &      -0.0414  &     2.73e-16     & -1.52e+14  &         0.000        &       -0.041    &       -0.041     \\\\\n",
       "\\textbf{X1}    &       2.8307  &     8.17e-15     &  3.46e+14  &         0.000        &        2.831    &        2.831     \\\\\n",
       "\\textbf{X2}    &       0.1719  &     4.11e-15     &  4.18e+13  &         0.000        &        0.172    &        0.172     \\\\\n",
       "\\textbf{X3}    &       1.1728  &     2.76e-15     &  4.24e+14  &         0.000        &        1.173    &        1.173     \\\\\n",
       "\\textbf{X4}    &       0.8113  &     2.73e-15     &  2.98e+14  &         0.000        &        0.811    &        0.811     \\\\\n",
       "\\textbf{X5}    &       1.4154  &     4.09e-15     &  3.46e+14  &         0.000        &        1.415    &        1.415     \\\\\n",
       "\\bottomrule\n",
       "\\end{tabular}\n",
       "\\begin{tabular}{lclc}\n",
       "\\textbf{Omnibus:}       &  2.321 & \\textbf{  Durbin-Watson:     } &    0.107  \\\\\n",
       "\\textbf{Prob(Omnibus):} &  0.313 & \\textbf{  Jarque-Bera (JB):  } &    1.541  \\\\\n",
       "\\textbf{Skew:}          &  0.844 & \\textbf{  Prob(JB):          } &    0.463  \\\\\n",
       "\\textbf{Kurtosis:}      &  2.078 & \\textbf{  Cond. No.          } & 7.80e+18  \\\\\n",
       "\\bottomrule\n",
       "\\end{tabular}\n",
       "%\\caption{OLS Regression Results}\n",
       "\\end{center}\n",
       "\n",
       "Notes: \\newline\n",
       " [1] Standard Errors assume that the covariance matrix of the errors is correctly specified. \\newline\n",
       " [2] The smallest eigenvalue is 1.76e-33. This might indicate that there are \\newline\n",
       " strong multicollinearity problems or that the design matrix is singular."
      ],
      "text/plain": [
       "<class 'statsmodels.iolib.summary.Summary'>\n",
       "\"\"\"\n",
       "                            OLS Regression Results                            \n",
       "==============================================================================\n",
       "Dep. Variable:                      y   R-squared:                       1.000\n",
       "Model:                            OLS   Adj. R-squared:                  1.000\n",
       "Method:                 Least Squares   F-statistic:                 6.697e+29\n",
       "Date:                Mon, 11 Nov 2024   Prob (F-statistic):          5.57e-117\n",
       "Time:                        18:11:26   Log-Likelihood:                 285.22\n",
       "No. Observations:                  10   AIC:                            -566.4\n",
       "Df Residuals:                       8   BIC:                            -565.8\n",
       "Df Model:                           1                                         \n",
       "Covariance Type:            nonrobust                                         \n",
       "==============================================================================\n",
       "                 coef    std err          t      P>|t|      [0.025      0.975]\n",
       "------------------------------------------------------------------------------\n",
       "const         -0.0414   2.73e-16  -1.52e+14      0.000      -0.041      -0.041\n",
       "X1             2.8307   8.17e-15   3.46e+14      0.000       2.831       2.831\n",
       "X2             0.1719   4.11e-15   4.18e+13      0.000       0.172       0.172\n",
       "X3             1.1728   2.76e-15   4.24e+14      0.000       1.173       1.173\n",
       "X4             0.8113   2.73e-15   2.98e+14      0.000       0.811       0.811\n",
       "X5             1.4154   4.09e-15   3.46e+14      0.000       1.415       1.415\n",
       "==============================================================================\n",
       "Omnibus:                        2.321   Durbin-Watson:                   0.107\n",
       "Prob(Omnibus):                  0.313   Jarque-Bera (JB):                1.541\n",
       "Skew:                           0.844   Prob(JB):                        0.463\n",
       "Kurtosis:                       2.078   Cond. No.                     7.80e+18\n",
       "==============================================================================\n",
       "\n",
       "Notes:\n",
       "[1] Standard Errors assume that the covariance matrix of the errors is correctly specified.\n",
       "[2] The smallest eigenvalue is 1.76e-33. This might indicate that there are\n",
       "strong multicollinearity problems or that the design matrix is singular.\n",
       "\"\"\""
      ]
     },
     "metadata": {},
     "output_type": "display_data"
    }
   ],
   "source": [
    "import statsmodels.api as sm\n",
    "\n",
    "# Зависимая переменная (отклик)\n",
    "y = data['y']\n",
    "# Независимые переменные (факторы)\n",
    "X = data[['X1', 'X2', 'X3', 'X4', 'X5']]\n",
    "X = sm.add_constant(X)  # Добавляем константу для смещения\n",
    "\n",
    "# Построение модели\n",
    "model = sm.OLS(y, X).fit()\n",
    "print(\"Результаты оценки параметров модели:\")\n",
    "display(model.summary())\n"
   ]
  },
  {
   "cell_type": "markdown",
   "id": "8f888875-dbee-4b2d-8ff3-ae8bb2f026fc",
   "metadata": {},
   "source": [
    "3. **Продолжение с отбором факторов и оценки модели**  \n",
    "Продолжим с фильтрации значимых факторов, корреляции и оценки адекватности модели:"
   ]
  },
  {
   "cell_type": "code",
   "execution_count": 5,
   "id": "6a6169a6-c111-4c0d-a18e-8563f19cf119",
   "metadata": {},
   "outputs": [
    {
     "name": "stdout",
     "output_type": "stream",
     "text": [
      "Значимые факторы по уровню значимости:\n"
     ]
    },
    {
     "data": {
      "text/plain": [
       "const    3.976729e-111\n",
       "X1       5.399889e-114\n",
       "X2       1.194761e-106\n",
       "X3       1.067046e-114\n",
       "X4       1.816065e-113\n",
       "X5       5.399889e-114\n",
       "dtype: float64"
      ]
     },
     "metadata": {},
     "output_type": "display_data"
    },
    {
     "name": "stdout",
     "output_type": "stream",
     "text": [
      "Корреляционная матрица:\n"
     ]
    },
    {
     "data": {
      "text/html": [
       "<div>\n",
       "<style scoped>\n",
       "    .dataframe tbody tr th:only-of-type {\n",
       "        vertical-align: middle;\n",
       "    }\n",
       "\n",
       "    .dataframe tbody tr th {\n",
       "        vertical-align: top;\n",
       "    }\n",
       "\n",
       "    .dataframe thead th {\n",
       "        text-align: right;\n",
       "    }\n",
       "</style>\n",
       "<table border=\"1\" class=\"dataframe\">\n",
       "  <thead>\n",
       "    <tr style=\"text-align: right;\">\n",
       "      <th></th>\n",
       "      <th>Time</th>\n",
       "      <th>y</th>\n",
       "      <th>X1</th>\n",
       "      <th>X2</th>\n",
       "      <th>X3</th>\n",
       "      <th>X4</th>\n",
       "      <th>X5</th>\n",
       "    </tr>\n",
       "  </thead>\n",
       "  <tbody>\n",
       "    <tr>\n",
       "      <th>Time</th>\n",
       "      <td>1.0</td>\n",
       "      <td>1.0</td>\n",
       "      <td>1.0</td>\n",
       "      <td>1.0</td>\n",
       "      <td>1.0</td>\n",
       "      <td>1.0</td>\n",
       "      <td>1.0</td>\n",
       "    </tr>\n",
       "    <tr>\n",
       "      <th>y</th>\n",
       "      <td>1.0</td>\n",
       "      <td>1.0</td>\n",
       "      <td>1.0</td>\n",
       "      <td>1.0</td>\n",
       "      <td>1.0</td>\n",
       "      <td>1.0</td>\n",
       "      <td>1.0</td>\n",
       "    </tr>\n",
       "    <tr>\n",
       "      <th>X1</th>\n",
       "      <td>1.0</td>\n",
       "      <td>1.0</td>\n",
       "      <td>1.0</td>\n",
       "      <td>1.0</td>\n",
       "      <td>1.0</td>\n",
       "      <td>1.0</td>\n",
       "      <td>1.0</td>\n",
       "    </tr>\n",
       "    <tr>\n",
       "      <th>X2</th>\n",
       "      <td>1.0</td>\n",
       "      <td>1.0</td>\n",
       "      <td>1.0</td>\n",
       "      <td>1.0</td>\n",
       "      <td>1.0</td>\n",
       "      <td>1.0</td>\n",
       "      <td>1.0</td>\n",
       "    </tr>\n",
       "    <tr>\n",
       "      <th>X3</th>\n",
       "      <td>1.0</td>\n",
       "      <td>1.0</td>\n",
       "      <td>1.0</td>\n",
       "      <td>1.0</td>\n",
       "      <td>1.0</td>\n",
       "      <td>1.0</td>\n",
       "      <td>1.0</td>\n",
       "    </tr>\n",
       "    <tr>\n",
       "      <th>X4</th>\n",
       "      <td>1.0</td>\n",
       "      <td>1.0</td>\n",
       "      <td>1.0</td>\n",
       "      <td>1.0</td>\n",
       "      <td>1.0</td>\n",
       "      <td>1.0</td>\n",
       "      <td>1.0</td>\n",
       "    </tr>\n",
       "    <tr>\n",
       "      <th>X5</th>\n",
       "      <td>1.0</td>\n",
       "      <td>1.0</td>\n",
       "      <td>1.0</td>\n",
       "      <td>1.0</td>\n",
       "      <td>1.0</td>\n",
       "      <td>1.0</td>\n",
       "      <td>1.0</td>\n",
       "    </tr>\n",
       "  </tbody>\n",
       "</table>\n",
       "</div>"
      ],
      "text/plain": [
       "      Time    y   X1   X2   X3   X4   X5\n",
       "Time   1.0  1.0  1.0  1.0  1.0  1.0  1.0\n",
       "y      1.0  1.0  1.0  1.0  1.0  1.0  1.0\n",
       "X1     1.0  1.0  1.0  1.0  1.0  1.0  1.0\n",
       "X2     1.0  1.0  1.0  1.0  1.0  1.0  1.0\n",
       "X3     1.0  1.0  1.0  1.0  1.0  1.0  1.0\n",
       "X4     1.0  1.0  1.0  1.0  1.0  1.0  1.0\n",
       "X5     1.0  1.0  1.0  1.0  1.0  1.0  1.0"
      ]
     },
     "metadata": {},
     "output_type": "display_data"
    },
    {
     "name": "stdout",
     "output_type": "stream",
     "text": [
      "Корреляция отклика y с факторами:\n"
     ]
    },
    {
     "data": {
      "text/plain": [
       "Time    1.0\n",
       "X1      1.0\n",
       "X2      1.0\n",
       "X3      1.0\n",
       "X4      1.0\n",
       "X5      1.0\n",
       "Name: y, dtype: float64"
      ]
     },
     "metadata": {},
     "output_type": "display_data"
    },
    {
     "name": "stdout",
     "output_type": "stream",
     "text": [
      "Коэффициент детерминации (R²): 1.000\n",
      "Модель адекватна (статистически значима).\n"
     ]
    }
   ],
   "source": [
    "# Уровень значимости, заданный пользователем\n",
    "alpha = 0.05\n",
    "significant_factors = model.pvalues[model.pvalues < alpha]\n",
    "print(\"Значимые факторы по уровню значимости:\")\n",
    "display(significant_factors)\n",
    "\n",
    "# Корреляция между факторами и откликом\n",
    "correlation_matrix = data.corr()\n",
    "print(\"Корреляционная матрица:\")\n",
    "display(correlation_matrix)\n",
    "\n",
    "# Извлечение корреляции отклика y с факторами\n",
    "y_correlations = correlation_matrix['y'].drop('y')\n",
    "print(\"Корреляция отклика y с факторами:\")\n",
    "display(y_correlations)\n",
    "\n",
    "# Коэффициент детерминации (R²)\n",
    "r_squared = model.rsquared\n",
    "print(f\"Коэффициент детерминации (R²): {r_squared:.3f}\")\n",
    "\n",
    "# Проверка статистической значимости модели (F-статистика)\n",
    "f_pvalue = model.f_pvalue\n",
    "if f_pvalue < alpha:\n",
    "    print(\"Модель адекватна (статистически значима).\")\n",
    "else:\n",
    "    print(\"Модель неадекватна (не статистически значима).\")\n"
   ]
  },
  {
   "cell_type": "markdown",
   "id": "8067790b-413c-4215-9818-33fb52558eb0",
   "metadata": {},
   "source": [
    "4. **Вычисление ошибки (RMSE)**"
   ]
  },
  {
   "cell_type": "code",
   "execution_count": 6,
   "id": "267b64cc-64e7-4b55-a98c-2dc2ca3cca76",
   "metadata": {},
   "outputs": [
    {
     "name": "stdout",
     "output_type": "stream",
     "text": [
      "Среднеквадратичная ошибка (RMSE): 0.000\n"
     ]
    }
   ],
   "source": [
    "import numpy as np\n",
    "\n",
    "# RMSE\n",
    "predicted_y = model.predict(X)\n",
    "rmse = np.sqrt(((y - predicted_y) ** 2).mean())\n",
    "print(f\"Среднеквадратичная ошибка (RMSE): {rmse:.3f}\")\n"
   ]
  },
  {
   "cell_type": "markdown",
   "id": "1735ea20-87f1-4994-845f-063a562c82ed",
   "metadata": {},
   "source": [
    "**Прогнозирование на новых данных**\n",
    "\n",
    "Создаем новый набор данных для прогнозирования. Этот набор содержит значения факторов, которые не входят в исходные данные, и мы будем использовать модель для предсказания отклика y."
   ]
  },
  {
   "cell_type": "code",
   "execution_count": 7,
   "id": "3e3122df-27a4-4888-aecb-1d57ee1db108",
   "metadata": {},
   "outputs": [
    {
     "name": "stdout",
     "output_type": "stream",
     "text": [
      "Предсказанные значения: 0    17.697609\n",
      "1    20.027428\n",
      "dtype: float64\n"
     ]
    }
   ],
   "source": [
    "# Новый набор данных для прогнозирования\n",
    "new_data = pd.DataFrame({\n",
    "    'X1': [3.2, 3.8],\n",
    "    'X2': [2.8, 3.2],\n",
    "    'X3': [1.5, 1.6],\n",
    "    'X4': [4.1, 4.3],\n",
    "    'X5': [2.2, 2.4]\n",
    "})\n",
    "new_data = sm.add_constant(new_data)\n",
    "\n",
    "# Прогнозирование\n",
    "y_pred_new = model.predict(new_data)\n",
    "print(\"Предсказанные значения:\", y_pred_new)\n"
   ]
  },
  {
   "cell_type": "markdown",
   "id": "6d243f0a-a9a0-4aa6-80a8-f095795d18eb",
   "metadata": {},
   "source": [
    "    **Сохранение результатов в текстовый файл**\n",
    "\n",
    "В завершение сохраняем все результаты анализа в текстовый файл для удобного просмотра и отчетности."
   ]
  },
  {
   "cell_type": "code",
   "execution_count": 27,
   "id": "dfc29589-78e5-4d3a-80d0-fea914e68fbd",
   "metadata": {},
   "outputs": [],
   "source": [
    "with open('results.txt', 'w') as f:\n",
    "    f.write(str(model.summary()))\n",
    "    f.write(f\"\\nОшибка E = {E}\")\n",
    "    f.write(f\"\\nRMSE = {RMSE}\")\n",
    "    f.write(f\"\\nПредсказанные значения:\\n{y_pred_new}\")\n"
   ]
  }
 ],
 "metadata": {
  "kernelspec": {
   "display_name": "Python 3 (ipykernel)",
   "language": "python",
   "name": "python3"
  },
  "language_info": {
   "codemirror_mode": {
    "name": "ipython",
    "version": 3
   },
   "file_extension": ".py",
   "mimetype": "text/x-python",
   "name": "python",
   "nbconvert_exporter": "python",
   "pygments_lexer": "ipython3",
   "version": "3.12.5"
  }
 },
 "nbformat": 4,
 "nbformat_minor": 5
}
