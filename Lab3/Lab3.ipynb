{
 "cells": [
  {
   "cell_type": "markdown",
   "id": "dc824592-2b0f-426c-94da-ba32f2bd68ce",
   "metadata": {},
   "source": [
    "**Разработка программы для анализа временных рядов и построения линейной модели**"
   ]
  },
  {
   "cell_type": "markdown",
   "id": "e22ea5b8-0971-4c0c-af99-451beae4188e",
   "metadata": {},
   "source": [
    "Процесс создания линейной многофакторной модели (ЛМФМ) для анализа данных временных рядов и факторов с использованием библиотеки pandas для работы с данными и statsmodels для статистического анализа и построения модели."
   ]
  },
  {
   "cell_type": "raw",
   "id": "24ff10c7-e509-4651-8167-24790744d958",
   "metadata": {},
   "source": [
    "1. Загрузка данных и импорт необходимых библиотек"
   ]
  },
  {
   "cell_type": "code",
   "execution_count": 22,
   "id": "e88b4e5b-fb2b-4f4d-be16-9683f05411a3",
   "metadata": {},
   "outputs": [
    {
     "name": "stdout",
     "output_type": "stream",
     "text": [
      "                            OLS Regression Results                            \n",
      "==============================================================================\n",
      "Dep. Variable:                      y   R-squared:                       0.202\n",
      "Model:                            OLS   Adj. R-squared:                 -0.083\n",
      "Method:                 Least Squares   F-statistic:                    0.7086\n",
      "Date:                Mon, 11 Nov 2024   Prob (F-statistic):              0.627\n",
      "Time:                        18:05:02   Log-Likelihood:                -50.011\n",
      "No. Observations:                  20   AIC:                             112.0\n",
      "Df Residuals:                      14   BIC:                             118.0\n",
      "Df Model:                           5                                         \n",
      "Covariance Type:            nonrobust                                         \n",
      "==============================================================================\n",
      "                 coef    std err          t      P>|t|      [0.025      0.975]\n",
      "------------------------------------------------------------------------------\n",
      "const         23.8813      6.172      3.870      0.002      10.645      37.118\n",
      "X1            -0.6064      0.468     -1.294      0.216      -1.611       0.398\n",
      "X2            -1.0399      1.068     -0.974      0.347      -3.330       1.250\n",
      "X3            -0.2767      0.299     -0.926      0.370      -0.917       0.364\n",
      "X4            -0.0793      0.210     -0.378      0.711      -0.529       0.370\n",
      "X5             0.2158      0.426      0.506      0.621      -0.699       1.130\n",
      "==============================================================================\n",
      "Omnibus:                        2.077   Durbin-Watson:                   2.289\n",
      "Prob(Omnibus):                  0.354   Jarque-Bera (JB):                1.050\n",
      "Skew:                          -0.056   Prob(JB):                        0.592\n",
      "Kurtosis:                       1.883   Cond. No.                         87.5\n",
      "==============================================================================\n",
      "\n",
      "Notes:\n",
      "[1] Standard Errors assume that the covariance matrix of the errors is correctly specified.\n"
     ]
    }
   ],
   "source": [
    "import numpy as np\n",
    "import pandas as pd\n",
    "import statsmodels.api as sm\n",
    "\n",
    "# Генерация случайных данных с шумом\n",
    "np.random.seed(42)\n",
    "\n",
    "# Временные ряды\n",
    "data = pd.DataFrame({\n",
    "    'Time': range(1, 21),\n",
    "    'y': 15 + 3 * np.random.randn(20) + 5 * np.random.rand(20),  # y с шумом\n",
    "    'X1': 2 + 2 * np.random.randn(20),\n",
    "    'X2': 5 + 1 * np.random.randn(20),\n",
    "    'X3': 7 + 3 * np.random.randn(20),\n",
    "    'X4': 3 + 4 * np.random.randn(20),\n",
    "    'X5': 6 + 2 * np.random.randn(20)\n",
    "})\n",
    "\n",
    "# Создаем матрицу факторов и добавляем константу\n",
    "X = data[['X1', 'X2', 'X3', 'X4', 'X5']]\n",
    "X = sm.add_constant(X)\n",
    "\n",
    "# Модель линейной регрессии\n",
    "y = data['y']\n",
    "model = sm.OLS(y, X).fit()\n",
    "\n",
    "# Вывод результатов\n",
    "print(model.summary())\n"
   ]
  },
  {
   "cell_type": "markdown",
   "id": "87ac9b85-2aba-4c01-894a-e34cff6eae17",
   "metadata": {},
   "source": [
    "2. **Построение линейной многофакторной модели**"
   ]
  },
  {
   "cell_type": "code",
   "execution_count": 23,
   "id": "ccab464e-9d92-4db8-a8d6-78761e712e6a",
   "metadata": {},
   "outputs": [
    {
     "name": "stdout",
     "output_type": "stream",
     "text": [
      "Результаты оценки параметров модели:\n"
     ]
    },
    {
     "data": {
      "text/html": [
       "<table class=\"simpletable\">\n",
       "<caption>OLS Regression Results</caption>\n",
       "<tr>\n",
       "  <th>Dep. Variable:</th>            <td>y</td>        <th>  R-squared:         </th> <td>   0.202</td>\n",
       "</tr>\n",
       "<tr>\n",
       "  <th>Model:</th>                   <td>OLS</td>       <th>  Adj. R-squared:    </th> <td>  -0.083</td>\n",
       "</tr>\n",
       "<tr>\n",
       "  <th>Method:</th>             <td>Least Squares</td>  <th>  F-statistic:       </th> <td>  0.7086</td>\n",
       "</tr>\n",
       "<tr>\n",
       "  <th>Date:</th>             <td>Mon, 11 Nov 2024</td> <th>  Prob (F-statistic):</th>  <td> 0.627</td> \n",
       "</tr>\n",
       "<tr>\n",
       "  <th>Time:</th>                 <td>18:05:09</td>     <th>  Log-Likelihood:    </th> <td> -50.011</td>\n",
       "</tr>\n",
       "<tr>\n",
       "  <th>No. Observations:</th>      <td>    20</td>      <th>  AIC:               </th> <td>   112.0</td>\n",
       "</tr>\n",
       "<tr>\n",
       "  <th>Df Residuals:</th>          <td>    14</td>      <th>  BIC:               </th> <td>   118.0</td>\n",
       "</tr>\n",
       "<tr>\n",
       "  <th>Df Model:</th>              <td>     5</td>      <th>                     </th>     <td> </td>   \n",
       "</tr>\n",
       "<tr>\n",
       "  <th>Covariance Type:</th>      <td>nonrobust</td>    <th>                     </th>     <td> </td>   \n",
       "</tr>\n",
       "</table>\n",
       "<table class=\"simpletable\">\n",
       "<tr>\n",
       "    <td></td>       <th>coef</th>     <th>std err</th>      <th>t</th>      <th>P>|t|</th>  <th>[0.025</th>    <th>0.975]</th>  \n",
       "</tr>\n",
       "<tr>\n",
       "  <th>const</th> <td>   23.8813</td> <td>    6.172</td> <td>    3.870</td> <td> 0.002</td> <td>   10.645</td> <td>   37.118</td>\n",
       "</tr>\n",
       "<tr>\n",
       "  <th>X1</th>    <td>   -0.6064</td> <td>    0.468</td> <td>   -1.294</td> <td> 0.216</td> <td>   -1.611</td> <td>    0.398</td>\n",
       "</tr>\n",
       "<tr>\n",
       "  <th>X2</th>    <td>   -1.0399</td> <td>    1.068</td> <td>   -0.974</td> <td> 0.347</td> <td>   -3.330</td> <td>    1.250</td>\n",
       "</tr>\n",
       "<tr>\n",
       "  <th>X3</th>    <td>   -0.2767</td> <td>    0.299</td> <td>   -0.926</td> <td> 0.370</td> <td>   -0.917</td> <td>    0.364</td>\n",
       "</tr>\n",
       "<tr>\n",
       "  <th>X4</th>    <td>   -0.0793</td> <td>    0.210</td> <td>   -0.378</td> <td> 0.711</td> <td>   -0.529</td> <td>    0.370</td>\n",
       "</tr>\n",
       "<tr>\n",
       "  <th>X5</th>    <td>    0.2158</td> <td>    0.426</td> <td>    0.506</td> <td> 0.621</td> <td>   -0.699</td> <td>    1.130</td>\n",
       "</tr>\n",
       "</table>\n",
       "<table class=\"simpletable\">\n",
       "<tr>\n",
       "  <th>Omnibus:</th>       <td> 2.077</td> <th>  Durbin-Watson:     </th> <td>   2.289</td>\n",
       "</tr>\n",
       "<tr>\n",
       "  <th>Prob(Omnibus):</th> <td> 0.354</td> <th>  Jarque-Bera (JB):  </th> <td>   1.050</td>\n",
       "</tr>\n",
       "<tr>\n",
       "  <th>Skew:</th>          <td>-0.056</td> <th>  Prob(JB):          </th> <td>   0.592</td>\n",
       "</tr>\n",
       "<tr>\n",
       "  <th>Kurtosis:</th>      <td> 1.883</td> <th>  Cond. No.          </th> <td>    87.5</td>\n",
       "</tr>\n",
       "</table><br/><br/>Notes:<br/>[1] Standard Errors assume that the covariance matrix of the errors is correctly specified."
      ],
      "text/latex": [
       "\\begin{center}\n",
       "\\begin{tabular}{lclc}\n",
       "\\toprule\n",
       "\\textbf{Dep. Variable:}    &        y         & \\textbf{  R-squared:         } &     0.202   \\\\\n",
       "\\textbf{Model:}            &       OLS        & \\textbf{  Adj. R-squared:    } &    -0.083   \\\\\n",
       "\\textbf{Method:}           &  Least Squares   & \\textbf{  F-statistic:       } &    0.7086   \\\\\n",
       "\\textbf{Date:}             & Mon, 11 Nov 2024 & \\textbf{  Prob (F-statistic):} &    0.627    \\\\\n",
       "\\textbf{Time:}             &     18:05:09     & \\textbf{  Log-Likelihood:    } &   -50.011   \\\\\n",
       "\\textbf{No. Observations:} &          20      & \\textbf{  AIC:               } &     112.0   \\\\\n",
       "\\textbf{Df Residuals:}     &          14      & \\textbf{  BIC:               } &     118.0   \\\\\n",
       "\\textbf{Df Model:}         &           5      & \\textbf{                     } &             \\\\\n",
       "\\textbf{Covariance Type:}  &    nonrobust     & \\textbf{                     } &             \\\\\n",
       "\\bottomrule\n",
       "\\end{tabular}\n",
       "\\begin{tabular}{lcccccc}\n",
       "               & \\textbf{coef} & \\textbf{std err} & \\textbf{t} & \\textbf{P$> |$t$|$} & \\textbf{[0.025} & \\textbf{0.975]}  \\\\\n",
       "\\midrule\n",
       "\\textbf{const} &      23.8813  &        6.172     &     3.870  &         0.002        &       10.645    &       37.118     \\\\\n",
       "\\textbf{X1}    &      -0.6064  &        0.468     &    -1.294  &         0.216        &       -1.611    &        0.398     \\\\\n",
       "\\textbf{X2}    &      -1.0399  &        1.068     &    -0.974  &         0.347        &       -3.330    &        1.250     \\\\\n",
       "\\textbf{X3}    &      -0.2767  &        0.299     &    -0.926  &         0.370        &       -0.917    &        0.364     \\\\\n",
       "\\textbf{X4}    &      -0.0793  &        0.210     &    -0.378  &         0.711        &       -0.529    &        0.370     \\\\\n",
       "\\textbf{X5}    &       0.2158  &        0.426     &     0.506  &         0.621        &       -0.699    &        1.130     \\\\\n",
       "\\bottomrule\n",
       "\\end{tabular}\n",
       "\\begin{tabular}{lclc}\n",
       "\\textbf{Omnibus:}       &  2.077 & \\textbf{  Durbin-Watson:     } &    2.289  \\\\\n",
       "\\textbf{Prob(Omnibus):} &  0.354 & \\textbf{  Jarque-Bera (JB):  } &    1.050  \\\\\n",
       "\\textbf{Skew:}          & -0.056 & \\textbf{  Prob(JB):          } &    0.592  \\\\\n",
       "\\textbf{Kurtosis:}      &  1.883 & \\textbf{  Cond. No.          } &     87.5  \\\\\n",
       "\\bottomrule\n",
       "\\end{tabular}\n",
       "%\\caption{OLS Regression Results}\n",
       "\\end{center}\n",
       "\n",
       "Notes: \\newline\n",
       " [1] Standard Errors assume that the covariance matrix of the errors is correctly specified."
      ],
      "text/plain": [
       "<class 'statsmodels.iolib.summary.Summary'>\n",
       "\"\"\"\n",
       "                            OLS Regression Results                            \n",
       "==============================================================================\n",
       "Dep. Variable:                      y   R-squared:                       0.202\n",
       "Model:                            OLS   Adj. R-squared:                 -0.083\n",
       "Method:                 Least Squares   F-statistic:                    0.7086\n",
       "Date:                Mon, 11 Nov 2024   Prob (F-statistic):              0.627\n",
       "Time:                        18:05:09   Log-Likelihood:                -50.011\n",
       "No. Observations:                  20   AIC:                             112.0\n",
       "Df Residuals:                      14   BIC:                             118.0\n",
       "Df Model:                           5                                         \n",
       "Covariance Type:            nonrobust                                         \n",
       "==============================================================================\n",
       "                 coef    std err          t      P>|t|      [0.025      0.975]\n",
       "------------------------------------------------------------------------------\n",
       "const         23.8813      6.172      3.870      0.002      10.645      37.118\n",
       "X1            -0.6064      0.468     -1.294      0.216      -1.611       0.398\n",
       "X2            -1.0399      1.068     -0.974      0.347      -3.330       1.250\n",
       "X3            -0.2767      0.299     -0.926      0.370      -0.917       0.364\n",
       "X4            -0.0793      0.210     -0.378      0.711      -0.529       0.370\n",
       "X5             0.2158      0.426      0.506      0.621      -0.699       1.130\n",
       "==============================================================================\n",
       "Omnibus:                        2.077   Durbin-Watson:                   2.289\n",
       "Prob(Omnibus):                  0.354   Jarque-Bera (JB):                1.050\n",
       "Skew:                          -0.056   Prob(JB):                        0.592\n",
       "Kurtosis:                       1.883   Cond. No.                         87.5\n",
       "==============================================================================\n",
       "\n",
       "Notes:\n",
       "[1] Standard Errors assume that the covariance matrix of the errors is correctly specified.\n",
       "\"\"\""
      ]
     },
     "metadata": {},
     "output_type": "display_data"
    }
   ],
   "source": [
    "import statsmodels.api as sm\n",
    "\n",
    "# Зависимая переменная (отклик)\n",
    "y = data['y']\n",
    "# Независимые переменные (факторы)\n",
    "X = data[['X1', 'X2', 'X3', 'X4', 'X5']]\n",
    "X = sm.add_constant(X)  # Добавляем константу для смещения\n",
    "\n",
    "# Построение модели\n",
    "model = sm.OLS(y, X).fit()\n",
    "print(\"Результаты оценки параметров модели:\")\n",
    "display(model.summary())\n"
   ]
  },
  {
   "cell_type": "markdown",
   "id": "8f888875-dbee-4b2d-8ff3-ae8bb2f026fc",
   "metadata": {},
   "source": [
    "3. **Продолжение с отбором факторов и оценки модели**  \n",
    "Продолжим с фильтрации значимых факторов, корреляции и оценки адекватности модели:"
   ]
  },
  {
   "cell_type": "code",
   "execution_count": 24,
   "id": "6a6169a6-c111-4c0d-a18e-8563f19cf119",
   "metadata": {},
   "outputs": [
    {
     "name": "stdout",
     "output_type": "stream",
     "text": [
      "Значимые факторы по уровню значимости:\n"
     ]
    },
    {
     "data": {
      "text/plain": [
       "const    0.001701\n",
       "dtype: float64"
      ]
     },
     "metadata": {},
     "output_type": "display_data"
    },
    {
     "name": "stdout",
     "output_type": "stream",
     "text": [
      "Корреляционная матрица:\n"
     ]
    },
    {
     "data": {
      "text/html": [
       "<div>\n",
       "<style scoped>\n",
       "    .dataframe tbody tr th:only-of-type {\n",
       "        vertical-align: middle;\n",
       "    }\n",
       "\n",
       "    .dataframe tbody tr th {\n",
       "        vertical-align: top;\n",
       "    }\n",
       "\n",
       "    .dataframe thead th {\n",
       "        text-align: right;\n",
       "    }\n",
       "</style>\n",
       "<table border=\"1\" class=\"dataframe\">\n",
       "  <thead>\n",
       "    <tr style=\"text-align: right;\">\n",
       "      <th></th>\n",
       "      <th>Time</th>\n",
       "      <th>y</th>\n",
       "      <th>X1</th>\n",
       "      <th>X2</th>\n",
       "      <th>X3</th>\n",
       "      <th>X4</th>\n",
       "      <th>X5</th>\n",
       "    </tr>\n",
       "  </thead>\n",
       "  <tbody>\n",
       "    <tr>\n",
       "      <th>Time</th>\n",
       "      <td>1.000000</td>\n",
       "      <td>-0.530885</td>\n",
       "      <td>0.092943</td>\n",
       "      <td>0.216454</td>\n",
       "      <td>0.249252</td>\n",
       "      <td>0.338883</td>\n",
       "      <td>-0.192387</td>\n",
       "    </tr>\n",
       "    <tr>\n",
       "      <th>y</th>\n",
       "      <td>-0.530885</td>\n",
       "      <td>1.000000</td>\n",
       "      <td>-0.309463</td>\n",
       "      <td>-0.228363</td>\n",
       "      <td>-0.094751</td>\n",
       "      <td>-0.151072</td>\n",
       "      <td>0.045632</td>\n",
       "    </tr>\n",
       "    <tr>\n",
       "      <th>X1</th>\n",
       "      <td>0.092943</td>\n",
       "      <td>-0.309463</td>\n",
       "      <td>1.000000</td>\n",
       "      <td>0.155465</td>\n",
       "      <td>-0.225919</td>\n",
       "      <td>0.002023</td>\n",
       "      <td>-0.016410</td>\n",
       "    </tr>\n",
       "    <tr>\n",
       "      <th>X2</th>\n",
       "      <td>0.216454</td>\n",
       "      <td>-0.228363</td>\n",
       "      <td>0.155465</td>\n",
       "      <td>1.000000</td>\n",
       "      <td>-0.288388</td>\n",
       "      <td>0.235860</td>\n",
       "      <td>0.319655</td>\n",
       "    </tr>\n",
       "    <tr>\n",
       "      <th>X3</th>\n",
       "      <td>0.249252</td>\n",
       "      <td>-0.094751</td>\n",
       "      <td>-0.225919</td>\n",
       "      <td>-0.288388</td>\n",
       "      <td>1.000000</td>\n",
       "      <td>0.031528</td>\n",
       "      <td>-0.029399</td>\n",
       "    </tr>\n",
       "    <tr>\n",
       "      <th>X4</th>\n",
       "      <td>0.338883</td>\n",
       "      <td>-0.151072</td>\n",
       "      <td>0.002023</td>\n",
       "      <td>0.235860</td>\n",
       "      <td>0.031528</td>\n",
       "      <td>1.000000</td>\n",
       "      <td>0.103603</td>\n",
       "    </tr>\n",
       "    <tr>\n",
       "      <th>X5</th>\n",
       "      <td>-0.192387</td>\n",
       "      <td>0.045632</td>\n",
       "      <td>-0.016410</td>\n",
       "      <td>0.319655</td>\n",
       "      <td>-0.029399</td>\n",
       "      <td>0.103603</td>\n",
       "      <td>1.000000</td>\n",
       "    </tr>\n",
       "  </tbody>\n",
       "</table>\n",
       "</div>"
      ],
      "text/plain": [
       "          Time         y        X1        X2        X3        X4        X5\n",
       "Time  1.000000 -0.530885  0.092943  0.216454  0.249252  0.338883 -0.192387\n",
       "y    -0.530885  1.000000 -0.309463 -0.228363 -0.094751 -0.151072  0.045632\n",
       "X1    0.092943 -0.309463  1.000000  0.155465 -0.225919  0.002023 -0.016410\n",
       "X2    0.216454 -0.228363  0.155465  1.000000 -0.288388  0.235860  0.319655\n",
       "X3    0.249252 -0.094751 -0.225919 -0.288388  1.000000  0.031528 -0.029399\n",
       "X4    0.338883 -0.151072  0.002023  0.235860  0.031528  1.000000  0.103603\n",
       "X5   -0.192387  0.045632 -0.016410  0.319655 -0.029399  0.103603  1.000000"
      ]
     },
     "metadata": {},
     "output_type": "display_data"
    },
    {
     "name": "stdout",
     "output_type": "stream",
     "text": [
      "Корреляция отклика y с факторами:\n"
     ]
    },
    {
     "data": {
      "text/plain": [
       "Time   -0.530885\n",
       "X1     -0.309463\n",
       "X2     -0.228363\n",
       "X3     -0.094751\n",
       "X4     -0.151072\n",
       "X5      0.045632\n",
       "Name: y, dtype: float64"
      ]
     },
     "metadata": {},
     "output_type": "display_data"
    },
    {
     "name": "stdout",
     "output_type": "stream",
     "text": [
      "Коэффициент детерминации (R²): 0.202\n",
      "Модель неадекватна (не статистически значима).\n"
     ]
    }
   ],
   "source": [
    "# Уровень значимости, заданный пользователем\n",
    "alpha = 0.05\n",
    "significant_factors = model.pvalues[model.pvalues < alpha]\n",
    "print(\"Значимые факторы по уровню значимости:\")\n",
    "display(significant_factors)\n",
    "\n",
    "# Корреляция между факторами и откликом\n",
    "correlation_matrix = data.corr()\n",
    "print(\"Корреляционная матрица:\")\n",
    "display(correlation_matrix)\n",
    "\n",
    "# Извлечение корреляции отклика y с факторами\n",
    "y_correlations = correlation_matrix['y'].drop('y')\n",
    "print(\"Корреляция отклика y с факторами:\")\n",
    "display(y_correlations)\n",
    "\n",
    "# Коэффициент детерминации (R²)\n",
    "r_squared = model.rsquared\n",
    "print(f\"Коэффициент детерминации (R²): {r_squared:.3f}\")\n",
    "\n",
    "# Проверка статистической значимости модели (F-статистика)\n",
    "f_pvalue = model.f_pvalue\n",
    "if f_pvalue < alpha:\n",
    "    print(\"Модель адекватна (статистически значима).\")\n",
    "else:\n",
    "    print(\"Модель неадекватна (не статистически значима).\")\n"
   ]
  },
  {
   "cell_type": "markdown",
   "id": "8067790b-413c-4215-9818-33fb52558eb0",
   "metadata": {},
   "source": [
    "4. **Вычисление ошибки (RMSE)**"
   ]
  },
  {
   "cell_type": "code",
   "execution_count": 25,
   "id": "267b64cc-64e7-4b55-a98c-2dc2ca3cca76",
   "metadata": {},
   "outputs": [
    {
     "name": "stdout",
     "output_type": "stream",
     "text": [
      "Среднеквадратичная ошибка (RMSE): 2.949\n"
     ]
    }
   ],
   "source": [
    "import numpy as np\n",
    "\n",
    "# RMSE\n",
    "predicted_y = model.predict(X)\n",
    "rmse = np.sqrt(((y - predicted_y) ** 2).mean())\n",
    "print(f\"Среднеквадратичная ошибка (RMSE): {rmse:.3f}\")\n"
   ]
  },
  {
   "cell_type": "markdown",
   "id": "1735ea20-87f1-4994-845f-063a562c82ed",
   "metadata": {},
   "source": [
    "**Прогнозирование на новых данных**\n",
    "\n",
    "Создаем новый набор данных для прогнозирования. Этот набор содержит значения факторов, которые не входят в исходные данные, и мы будем использовать модель для предсказания отклика y."
   ]
  },
  {
   "cell_type": "code",
   "execution_count": 13,
   "id": "3e3122df-27a4-4888-aecb-1d57ee1db108",
   "metadata": {},
   "outputs": [
    {
     "name": "stdout",
     "output_type": "stream",
     "text": [
      "Предсказанные значения: 0    20.296202\n",
      "1    22.747431\n",
      "dtype: float64\n"
     ]
    }
   ],
   "source": [
    "# Новый набор данных для прогнозирования\n",
    "new_data = pd.DataFrame({\n",
    "    'X1': [3.2, 3.8],\n",
    "    'X2': [2.8, 3.2],\n",
    "    'X3': [1.5, 1.6],\n",
    "    'X4': [4.1, 4.3],\n",
    "    'X5': [2.2, 2.4]\n",
    "})\n",
    "new_data = sm.add_constant(new_data)\n",
    "\n",
    "# Прогнозирование\n",
    "y_pred_new = model.predict(new_data)\n",
    "print(\"Предсказанные значения:\", y_pred_new)\n"
   ]
  },
  {
   "cell_type": "markdown",
   "id": "6d243f0a-a9a0-4aa6-80a8-f095795d18eb",
   "metadata": {},
   "source": [
    "    **Сохранение результатов в текстовый файл**\n",
    "\n",
    "В завершение сохраняем все результаты анализа в текстовый файл для удобного просмотра и отчетности."
   ]
  },
  {
   "cell_type": "code",
   "execution_count": 21,
   "id": "dfc29589-78e5-4d3a-80d0-fea914e68fbd",
   "metadata": {},
   "outputs": [],
   "source": [
    "with open('results.txt', 'w') as f:\n",
    "    f.write(str(model.summary()))\n",
    "    f.write(f\"\\nОшибка E = {E}\")\n",
    "    f.write(f\"\\nRMSE = {RMSE}\")\n",
    "    f.write(f\"\\nПредсказанные значения:\\n{y_pred_new}\")\n"
   ]
  }
 ],
 "metadata": {
  "kernelspec": {
   "display_name": "Python 3 (ipykernel)",
   "language": "python",
   "name": "python3"
  },
  "language_info": {
   "codemirror_mode": {
    "name": "ipython",
    "version": 3
   },
   "file_extension": ".py",
   "mimetype": "text/x-python",
   "name": "python",
   "nbconvert_exporter": "python",
   "pygments_lexer": "ipython3",
   "version": "3.12.5"
  }
 },
 "nbformat": 4,
 "nbformat_minor": 5
}
